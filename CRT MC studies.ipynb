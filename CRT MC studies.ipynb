{
 "cells": [
  {
   "cell_type": "markdown",
   "metadata": {},
   "source": [
    "# CRTVeto on MC samples\n"
   ]
  },
  {
   "cell_type": "markdown",
   "metadata": {},
   "source": [
    "## Imports"
   ]
  },
  {
   "cell_type": "code",
   "execution_count": 1,
   "metadata": {},
   "outputs": [],
   "source": [
    "import uproot\n",
    "import numpy as np\n",
    "import pandas as pd\n",
    "import matplotlib.pyplot as plt\n",
    "\n",
    "%matplotlib inline"
   ]
  },
  {
   "cell_type": "code",
   "execution_count": 2,
   "metadata": {},
   "outputs": [],
   "source": [
    "def inTPC_df(row):\n",
    "    if 0 < row['_nu_vtx_x'] < 256.35:\n",
    "        if 0 < row['_nu_vtx_z'] < 1036.8:\n",
    "            if -116.5 < row['_nu_vtx_y'] < 116.5:\n",
    "                return True\n",
    "    return False\n",
    "\n",
    "def inTPC(x_arr, y_arr, z_arr):\n",
    "    mask = (0 < x_arr)      &  (x_arr < 256.35) & \\\n",
    "           (-116.5 < y_arr) &  (y_arr <116.5)   & \\\n",
    "           (0 < z_arr)      &  (z_arr < 1036.8)\n",
    "    return mask"
   ]
  },
  {
   "cell_type": "markdown",
   "metadata": {},
   "source": [
    "## For BNB dirt"
   ]
  },
  {
   "cell_type": "code",
   "execution_count": 128,
   "metadata": {},
   "outputs": [
    {
     "data": {
      "text/plain": [
       "[b'_intersections',\n",
       " b'num_nu',\n",
       " b'nu_vtx_x',\n",
       " b'nu_vtx_y',\n",
       " b'nu_vtx_z',\n",
       " b'nu_E',\n",
       " b'nu_time',\n",
       " b'nu_pdg_code',\n",
       " b'nu_ccnc',\n",
       " b'_x_cross',\n",
       " b'_y_cross',\n",
       " b'_z_cross',\n",
       " b'_cross_pdg',\n",
       " b'_cross_momentum',\n",
       " b'_cross_xstart',\n",
       " b'_cross_ystart',\n",
       " b'_cross_zstart',\n",
       " b'_cross_xend',\n",
       " b'_cross_yend',\n",
       " b'_cross_zend']"
      ]
     },
     "execution_count": 128,
     "metadata": {},
     "output_type": "execute_result"
    }
   ],
   "source": [
    "MC_dirt = uproot.open('input/G4_dirt_10k.root')['g4veto']['_tree']\n",
    "MC_dirt.keys()"
   ]
  },
  {
   "cell_type": "code",
   "execution_count": 129,
   "metadata": {},
   "outputs": [],
   "source": [
    "# How many events have x CRT crossings?\n",
    "nr_cross = np.bincount(MC_dirt.array(b'_intersections'))"
   ]
  },
  {
   "cell_type": "code",
   "execution_count": 130,
   "metadata": {},
   "outputs": [
    {
     "data": {
      "text/plain": [
       "array([    1,     3,     6, ..., 25829, 25830, 25832])"
      ]
     },
     "execution_count": 130,
     "metadata": {},
     "output_type": "execute_result"
    }
   ],
   "source": [
    "# Jagged arrays are under the hood 4 flat numpy arrays:\n",
    "jarr_nu_time = MC_dirt.array(b'nu_time')\n",
    "jarr_nu_time.content\n",
    "jarr_nu_time.counts\n",
    "jarr_nu_time.starts\n",
    "jarr_nu_time.stops"
   ]
  },
  {
   "cell_type": "code",
   "execution_count": 131,
   "metadata": {},
   "outputs": [],
   "source": [
    "# Construct the differences between all combinations of neutrinos and crossing MC particles\n",
    "_cross_xstart = MC_dirt.array(b'_cross_xstart')\n",
    "nu_vtx_x = MC_dirt.array(b'nu_vtx_x')\n",
    "pairs_x = nu_vtx_x.cross(_cross_xstart)\n",
    "diff_x = pairs_x._0 - pairs_x._1\n",
    "\n",
    "_cross_ystart = MC_dirt.array(b'_cross_ystart')\n",
    "nu_vtx_y = MC_dirt.array(b'nu_vtx_y')\n",
    "pairs_y = nu_vtx_y.cross(_cross_ystart)\n",
    "diff_y = pairs_y._0 - pairs_y._1\n",
    "\n",
    "_cross_zstart = MC_dirt.array(b'_cross_zstart')\n",
    "nu_vtx_z = MC_dirt.array(b'nu_vtx_z')\n",
    "pairs_z = nu_vtx_z.cross(_cross_zstart)\n",
    "diff_z = pairs_z._0 - pairs_z._1"
   ]
  },
  {
   "cell_type": "code",
   "execution_count": 132,
   "metadata": {},
   "outputs": [],
   "source": [
    "# Calsulate the distance jagged cross array\n",
    "dist_xyz = (diff_x**2 + diff_y**2 + diff_z**2)**0.5"
   ]
  },
  {
   "cell_type": "code",
   "execution_count": 133,
   "metadata": {},
   "outputs": [
    {
     "name": "stdout",
     "output_type": "stream",
     "text": [
      "Average number of neutrinos per event: 2.58.\n",
      "Fraction of dirt neutrinos causing a CRT crossing: 2.71%.\n",
      "Fraction of dirt events causing a CRT crossing 7.01%.\n"
     ]
    }
   ],
   "source": [
    "nu_cross = []\n",
    "nu_all = MC_dirt.array(b'nu_E').content\n",
    "\n",
    "# Try this: I think it is possible to remove all for loops!\n",
    "for mindist, nu_energy, n_intersections in zip(dist_xyz.argmin(),MC_dirt.array(b'nu_E'), MC_dirt.array(b'_intersections')):\n",
    "    if n_intersections>0:\n",
    "        nu_cross.append(nu_energy[int(mindist/n_intersections)])\n",
    "\n",
    "#print(len(nu_cross))\n",
    "print('Average number of neutrinos per event: {0:.2f}.'.format(len(nu_all)/len(jarr_nu_time)))\n",
    "print('Fraction of dirt neutrinos causing a CRT crossing: {0:.2f}%.'.format(len(nu_cross)/len(nu_all)*100))\n",
    "print('Fraction of dirt events causing a CRT crossing {0:.2f}%.'.format(sum(nr_cross[1:])/sum(nr_cross)*100))"
   ]
  },
  {
   "cell_type": "code",
   "execution_count": 173,
   "metadata": {},
   "outputs": [
    {
     "name": "stdout",
     "output_type": "stream",
     "text": [
      "[  0   1   8  38  78  97 111  85  63  60  27  23  10  16  10]\n",
      "[  23  690 1973 3391 3803 3448 2925 2352 1731 1263  867  561  363  290\n",
      "  226]\n"
     ]
    },
    {
     "data": {
      "image/png": "[encoded data removed]",
      "text/plain": [
       "<Figure size 288x237.6 with 1 Axes>"
      ]
     },
     "metadata": {
      "needs_background": "light"
     },
     "output_type": "display_data"
    }
   ],
   "source": [
    "edges = np.linspace(0.,2.5,16)\n",
    "val1,_ = np.histogram(nu_cross, bins=edges)\n",
    "val2,_ = np.histogram(nu_all, bins=edges)\n",
    "eff_in = val1/val2\n",
    "err_in = np.sqrt(val1*val2/(val1+val2)**3)\n",
    "\n",
    "print(val1)\n",
    "print(val2)\n",
    "\n",
    "fig,ax = plt.subplots(figsize=(4,3.3))\n",
    "\n",
    "x_axis = edges[:-1]+(edges[1]-edges[0])/2\n",
    "x_err = (edges[1]-edges[0])/2\n",
    "#ax.errorbar(x_axis, 1-eff_in, xerr= 0,yerr = err_in, fmt='.', label=r'$\\nu$-vtx out of Cryostat',c='b')\n",
    "ax.errorbar(x_axis, 1-eff_in, xerr= x_err,yerr = err_in, fmt='.', label=r'$\\nu$-vtx out of Cryostat',c='C0')\n",
    "ax.set_ylim(0.5,1.05)\n",
    "ax.set_xlabel(r'True $\\nu$ Energy [GeV]')\n",
    "ax.set_ylabel(r'Fraction without CRT crossing')\n",
    "ax.set_title(r'CRT crossing for BNB $\\nu$ dirt events')\n",
    "ax.legend(loc='lower left')\n",
    "fig.tight_layout()\n",
    "plt.savefig(\"./output/crt_crossing_dirt.pdf\", bbox_inches=\"tight\")"
   ]
  },
  {
   "cell_type": "code",
   "execution_count": 169,
   "metadata": {},
   "outputs": [],
   "source": [
    "# Make 2D projections of where these neutrinos are crossing the TPC\n",
    "x = MC_dirt.array(b'_x_cross').flatten()\n",
    "y = MC_dirt.array(b'_y_cross').flatten()\n",
    "z = MC_dirt.array(b'_z_cross').flatten()"
   ]
  },
  {
   "cell_type": "code",
   "execution_count": 170,
   "metadata": {},
   "outputs": [
    {
     "data": {
      "image/png": "[encoded data removed]",
      "text/plain": [
       "<Figure size 576x216 with 3 Axes>"
      ]
     },
     "metadata": {
      "needs_background": "light"
     },
     "output_type": "display_data"
    }
   ],
   "source": [
    "fig, ax = plt.subplots(1,3, figsize=(8,3))\n",
    "\n",
    "ax[0].scatter(z,y,s=2)\n",
    "ax[0].set_xlabel(r'$z$ [cm]')\n",
    "ax[0].set_ylabel(r'$y$ [cm]')\n",
    "ax[0].set_title(r'ZY')\n",
    "\n",
    "ax[1].scatter(x,y,s=2)\n",
    "ax[1].set_xlabel(r'$x$ [cm]')\n",
    "ax[1].set_ylabel(r'$y$ [cm]')\n",
    "ax[1].set_title(r'XY')\n",
    "\n",
    "ax[2].scatter(z,x,s=2)\n",
    "ax[2].set_xlabel(r'$z$ [cm]')\n",
    "ax[2].set_ylabel(r'$x$ [cm]')\n",
    "ax[2].set_title(r'ZX')\n",
    "\n",
    "fig.suptitle('CRT intersections: BNB dirt sample')\n",
    "fig.tight_layout()\n",
    "fig.subplots_adjust(top=0.8)\n",
    "plt.savefig(\"./output/crt_crossing_dirt_proj.pdf\", bbox_inches=\"tight\")"
   ]
  },
  {
   "cell_type": "markdown",
   "metadata": {},
   "source": [
    "## For BNB nue"
   ]
  },
  {
   "cell_type": "code",
   "execution_count": 3,
   "metadata": {},
   "outputs": [
    {
     "data": {
      "text/plain": [
       "[b'_intersections',\n",
       " b'num_nu',\n",
       " b'nu_vtx_x',\n",
       " b'nu_vtx_y',\n",
       " b'nu_vtx_z',\n",
       " b'nu_E',\n",
       " b'nu_time',\n",
       " b'nu_pdg_code',\n",
       " b'nu_ccnc',\n",
       " b'_x_cross',\n",
       " b'_y_cross',\n",
       " b'_z_cross',\n",
       " b'_cross_pdg',\n",
       " b'_cross_momentum',\n",
       " b'_cross_xstart',\n",
       " b'_cross_ystart',\n",
       " b'_cross_zstart',\n",
       " b'_cross_xend',\n",
       " b'_cross_yend',\n",
       " b'_cross_zend']"
      ]
     },
     "execution_count": 3,
     "metadata": {},
     "output_type": "execute_result"
    }
   ],
   "source": [
    "MC_nue = uproot.open('input/G4_nue_10k.root')['g4veto']['_tree']\n",
    "MC_nue.keys()"
   ]
  },
  {
   "cell_type": "code",
   "execution_count": 4,
   "metadata": {},
   "outputs": [],
   "source": [
    "# This shows that every event has only one neutrino\n",
    "nr_nue = np.bincount(MC_nue.array(b'num_nu'))\n",
    "# So we are only interested in the E,x,y,z location of the first neutrino:\n",
    "nu_e = MC_nue.array(b'nu_E')[:,0]\n",
    "nu_x = MC_nue.array(b'nu_vtx_x')[:,0]\n",
    "nu_y = MC_nue.array(b'nu_vtx_y')[:,0]\n",
    "nu_z = MC_nue.array(b'nu_vtx_z')[:,0]\n",
    "# This makes it clear that there are only inTPC events in this sample!\n",
    "nu_intpc = inTPC(nu_x, nu_y, nu_z)"
   ]
  },
  {
   "cell_type": "code",
   "execution_count": 5,
   "metadata": {
    "scrolled": false
   },
   "outputs": [],
   "source": [
    "# How many events have x CRT crossings?\n",
    "nr_cross = np.bincount(MC_nue.array(b'_intersections'))"
   ]
  },
  {
   "cell_type": "code",
   "execution_count": 6,
   "metadata": {},
   "outputs": [
    {
     "name": "stdout",
     "output_type": "stream",
     "text": [
      "Fraction of nue events in the TPC causing a CRT crossing 0.33%.\n"
     ]
    }
   ],
   "source": [
    "print('Fraction of nue events in the TPC causing a CRT crossing {0:.2f}%.'.format(nr_cross[1]/len(nu_intpc)*100))"
   ]
  },
  {
   "cell_type": "markdown",
   "metadata": {},
   "source": [
    "## For BNB nu"
   ]
  },
  {
   "cell_type": "code",
   "execution_count": 7,
   "metadata": {},
   "outputs": [
    {
     "name": "stdout",
     "output_type": "stream",
     "text": [
      "[b'_intersections', b'_nu_e', b'_nu_ccnc', b'_nu_vtx_x', b'_nu_vtx_y', b'_nu_vtx_z', b'_x_cross', b'_y_cross', b'_z_cross', b'_cross_pdg', b'_cross_momentum', b'_cross_xstart', b'_cross_ystart', b'_cross_zstart', b'_cross_xend', b'_cross_yend', b'_cross_zend']\n"
     ]
    },
    {
     "data": {
      "text/html": [
       "<div>\n",
       "<style scoped>\n",
       "    .dataframe tbody tr th:only-of-type {\n",
       "        vertical-align: middle;\n",
       "    }\n",
       "\n",
       "    .dataframe tbody tr th {\n",
       "        vertical-align: top;\n",
       "    }\n",
       "\n",
       "    .dataframe thead th {\n",
       "        text-align: right;\n",
       "    }\n",
       "</style>\n",
       "<table border=\"1\" class=\"dataframe\">\n",
       "  <thead>\n",
       "    <tr style=\"text-align: right;\">\n",
       "      <th></th>\n",
       "      <th>_intersections</th>\n",
       "      <th>_nu_e</th>\n",
       "      <th>_nu_ccnc</th>\n",
       "      <th>_nu_vtx_x</th>\n",
       "      <th>_nu_vtx_y</th>\n",
       "      <th>_nu_vtx_z</th>\n",
       "      <th>_x_cross</th>\n",
       "      <th>_y_cross</th>\n",
       "      <th>_z_cross</th>\n",
       "      <th>_cross_pdg</th>\n",
       "      <th>_cross_momentum</th>\n",
       "      <th>_cross_xstart</th>\n",
       "      <th>_cross_ystart</th>\n",
       "      <th>_cross_zstart</th>\n",
       "      <th>_cross_xend</th>\n",
       "      <th>_cross_yend</th>\n",
       "      <th>_cross_zend</th>\n",
       "    </tr>\n",
       "  </thead>\n",
       "  <tbody>\n",
       "    <tr>\n",
       "      <th>0</th>\n",
       "      <td>0</td>\n",
       "      <td>0.473477</td>\n",
       "      <td>0</td>\n",
       "      <td>19.360643</td>\n",
       "      <td>-120.474886</td>\n",
       "      <td>467.401996</td>\n",
       "      <td>0.0</td>\n",
       "      <td>0.0</td>\n",
       "      <td>0.0</td>\n",
       "      <td>0</td>\n",
       "      <td>0.0</td>\n",
       "      <td>0.0</td>\n",
       "      <td>0.0</td>\n",
       "      <td>0.0</td>\n",
       "      <td>0.0</td>\n",
       "      <td>0.0</td>\n",
       "      <td>0.0</td>\n",
       "    </tr>\n",
       "    <tr>\n",
       "      <th>1</th>\n",
       "      <td>0</td>\n",
       "      <td>1.236565</td>\n",
       "      <td>1</td>\n",
       "      <td>-24.055375</td>\n",
       "      <td>-65.989518</td>\n",
       "      <td>773.589164</td>\n",
       "      <td>0.0</td>\n",
       "      <td>0.0</td>\n",
       "      <td>0.0</td>\n",
       "      <td>0</td>\n",
       "      <td>0.0</td>\n",
       "      <td>0.0</td>\n",
       "      <td>0.0</td>\n",
       "      <td>0.0</td>\n",
       "      <td>0.0</td>\n",
       "      <td>0.0</td>\n",
       "      <td>0.0</td>\n",
       "    </tr>\n",
       "    <tr>\n",
       "      <th>2</th>\n",
       "      <td>0</td>\n",
       "      <td>4.502198</td>\n",
       "      <td>0</td>\n",
       "      <td>267.635099</td>\n",
       "      <td>67.200220</td>\n",
       "      <td>663.388665</td>\n",
       "      <td>0.0</td>\n",
       "      <td>0.0</td>\n",
       "      <td>0.0</td>\n",
       "      <td>0</td>\n",
       "      <td>0.0</td>\n",
       "      <td>0.0</td>\n",
       "      <td>0.0</td>\n",
       "      <td>0.0</td>\n",
       "      <td>0.0</td>\n",
       "      <td>0.0</td>\n",
       "      <td>0.0</td>\n",
       "    </tr>\n",
       "    <tr>\n",
       "      <th>3</th>\n",
       "      <td>0</td>\n",
       "      <td>1.209543</td>\n",
       "      <td>0</td>\n",
       "      <td>292.966373</td>\n",
       "      <td>-30.677627</td>\n",
       "      <td>812.971634</td>\n",
       "      <td>0.0</td>\n",
       "      <td>0.0</td>\n",
       "      <td>0.0</td>\n",
       "      <td>0</td>\n",
       "      <td>0.0</td>\n",
       "      <td>0.0</td>\n",
       "      <td>0.0</td>\n",
       "      <td>0.0</td>\n",
       "      <td>0.0</td>\n",
       "      <td>0.0</td>\n",
       "      <td>0.0</td>\n",
       "    </tr>\n",
       "    <tr>\n",
       "      <th>4</th>\n",
       "      <td>0</td>\n",
       "      <td>0.896995</td>\n",
       "      <td>0</td>\n",
       "      <td>46.702508</td>\n",
       "      <td>-67.356410</td>\n",
       "      <td>313.147372</td>\n",
       "      <td>0.0</td>\n",
       "      <td>0.0</td>\n",
       "      <td>0.0</td>\n",
       "      <td>0</td>\n",
       "      <td>0.0</td>\n",
       "      <td>0.0</td>\n",
       "      <td>0.0</td>\n",
       "      <td>0.0</td>\n",
       "      <td>0.0</td>\n",
       "      <td>0.0</td>\n",
       "      <td>0.0</td>\n",
       "    </tr>\n",
       "  </tbody>\n",
       "</table>\n",
       "</div>"
      ],
      "text/plain": [
       "   _intersections     _nu_e  _nu_ccnc   _nu_vtx_x   _nu_vtx_y   _nu_vtx_z  \\\n",
       "0               0  0.473477         0   19.360643 -120.474886  467.401996   \n",
       "1               0  1.236565         1  -24.055375  -65.989518  773.589164   \n",
       "2               0  4.502198         0  267.635099   67.200220  663.388665   \n",
       "3               0  1.209543         0  292.966373  -30.677627  812.971634   \n",
       "4               0  0.896995         0   46.702508  -67.356410  313.147372   \n",
       "\n",
       "   _x_cross  _y_cross  _z_cross  _cross_pdg  _cross_momentum  _cross_xstart  \\\n",
       "0       0.0       0.0       0.0           0              0.0            0.0   \n",
       "1       0.0       0.0       0.0           0              0.0            0.0   \n",
       "2       0.0       0.0       0.0           0              0.0            0.0   \n",
       "3       0.0       0.0       0.0           0              0.0            0.0   \n",
       "4       0.0       0.0       0.0           0              0.0            0.0   \n",
       "\n",
       "   _cross_ystart  _cross_zstart  _cross_xend  _cross_yend  _cross_zend  \n",
       "0            0.0            0.0          0.0          0.0          0.0  \n",
       "1            0.0            0.0          0.0          0.0          0.0  \n",
       "2            0.0            0.0          0.0          0.0          0.0  \n",
       "3            0.0            0.0          0.0          0.0          0.0  \n",
       "4            0.0            0.0          0.0          0.0          0.0  "
      ]
     },
     "execution_count": 7,
     "metadata": {},
     "output_type": "execute_result"
    }
   ],
   "source": [
    "MC_nu = uproot.open('input/G4_nu_10k.root')['g4veto']['_tree']\n",
    "print(MC_nu.keys())\n",
    "MC_nu =  MC_nu.pandas.df(MC_nu.keys())\n",
    "MC_nu.head()"
   ]
  },
  {
   "cell_type": "code",
   "execution_count": 12,
   "metadata": {},
   "outputs": [],
   "source": [
    "MC_nu['inTPC'] = MC_nu[['_nu_vtx_x','_nu_vtx_y','_nu_vtx_z']].apply(inTPC_df,axis=1)"
   ]
  },
  {
   "cell_type": "code",
   "execution_count": 27,
   "metadata": {},
   "outputs": [
    {
     "name": "stdout",
     "output_type": "stream",
     "text": [
      "Percentage crossing upper or lower: 3.7%.\n",
      "1    77\n",
      "Name: _intersections, dtype: int64\n"
     ]
    },
    {
     "ename": "KeyError",
     "evalue": "0",
     "output_type": "error",
     "traceback": [
      "\u001b[0;31m---------------------------------------------------------------------------\u001b[0m",
      "\u001b[0;31mKeyError\u001b[0m                                  Traceback (most recent call last)",
      "\u001b[0;32m<ipython-input-27-2ae0bfe68a07>\u001b[0m in \u001b[0;36m<module>\u001b[0;34m()\u001b[0m\n\u001b[1;32m      3\u001b[0m \u001b[0mupper\u001b[0m \u001b[0;34m=\u001b[0m \u001b[0mMC_nu\u001b[0m\u001b[0;34m.\u001b[0m\u001b[0mquery\u001b[0m\u001b[0;34m(\u001b[0m\u001b[0;34m'inTPC==1'\u001b[0m\u001b[0;34m)\u001b[0m\u001b[0;34m[\u001b[0m\u001b[0mMC_nu\u001b[0m\u001b[0;34m.\u001b[0m\u001b[0mquery\u001b[0m\u001b[0;34m(\u001b[0m\u001b[0;34m'inTPC==1'\u001b[0m\u001b[0;34m)\u001b[0m\u001b[0;34m[\u001b[0m\u001b[0;34m'_y_cross'\u001b[0m\u001b[0;34m]\u001b[0m\u001b[0;34m>\u001b[0m\u001b[0;36m120\u001b[0m\u001b[0;34m]\u001b[0m\u001b[0;34m[\u001b[0m\u001b[0;34m'_intersections'\u001b[0m\u001b[0;34m]\u001b[0m\u001b[0;34m.\u001b[0m\u001b[0mvalue_counts\u001b[0m\u001b[0;34m(\u001b[0m\u001b[0;34m)\u001b[0m\u001b[0;34m\u001b[0m\u001b[0m\n\u001b[1;32m      4\u001b[0m \u001b[0mprint\u001b[0m\u001b[0;34m(\u001b[0m\u001b[0mupper\u001b[0m\u001b[0;34m)\u001b[0m\u001b[0;34m\u001b[0m\u001b[0m\n\u001b[0;32m----> 5\u001b[0;31m \u001b[0mprint\u001b[0m\u001b[0;34m(\u001b[0m\u001b[0;34m'Percentage crossing upper: {0:.1f}%.'\u001b[0m\u001b[0;34m.\u001b[0m\u001b[0mformat\u001b[0m\u001b[0;34m(\u001b[0m\u001b[0mupper\u001b[0m\u001b[0;34m[\u001b[0m\u001b[0;36m0\u001b[0m\u001b[0;34m]\u001b[0m\u001b[0;34m/\u001b[0m\u001b[0msum\u001b[0m\u001b[0;34m(\u001b[0m\u001b[0mval\u001b[0m\u001b[0;34m)\u001b[0m\u001b[0;34m*\u001b[0m\u001b[0;36m100\u001b[0m\u001b[0;34m)\u001b[0m\u001b[0;34m)\u001b[0m\u001b[0;34m\u001b[0m\u001b[0m\n\u001b[0m",
      "\u001b[0;32m~/Binaries/miniconda3/envs/uprootenv/lib/python3.5/site-packages/pandas/core/series.py\u001b[0m in \u001b[0;36m__getitem__\u001b[0;34m(self, key)\u001b[0m\n\u001b[1;32m    765\u001b[0m         \u001b[0mkey\u001b[0m \u001b[0;34m=\u001b[0m \u001b[0mcom\u001b[0m\u001b[0;34m.\u001b[0m\u001b[0m_apply_if_callable\u001b[0m\u001b[0;34m(\u001b[0m\u001b[0mkey\u001b[0m\u001b[0;34m,\u001b[0m \u001b[0mself\u001b[0m\u001b[0;34m)\u001b[0m\u001b[0;34m\u001b[0m\u001b[0m\n\u001b[1;32m    766\u001b[0m         \u001b[0;32mtry\u001b[0m\u001b[0;34m:\u001b[0m\u001b[0;34m\u001b[0m\u001b[0m\n\u001b[0;32m--> 767\u001b[0;31m             \u001b[0mresult\u001b[0m \u001b[0;34m=\u001b[0m \u001b[0mself\u001b[0m\u001b[0;34m.\u001b[0m\u001b[0mindex\u001b[0m\u001b[0;34m.\u001b[0m\u001b[0mget_value\u001b[0m\u001b[0;34m(\u001b[0m\u001b[0mself\u001b[0m\u001b[0;34m,\u001b[0m \u001b[0mkey\u001b[0m\u001b[0;34m)\u001b[0m\u001b[0;34m\u001b[0m\u001b[0m\n\u001b[0m\u001b[1;32m    768\u001b[0m \u001b[0;34m\u001b[0m\u001b[0m\n\u001b[1;32m    769\u001b[0m             \u001b[0;32mif\u001b[0m \u001b[0;32mnot\u001b[0m \u001b[0mis_scalar\u001b[0m\u001b[0;34m(\u001b[0m\u001b[0mresult\u001b[0m\u001b[0;34m)\u001b[0m\u001b[0;34m:\u001b[0m\u001b[0;34m\u001b[0m\u001b[0m\n",
      "\u001b[0;32m~/Binaries/miniconda3/envs/uprootenv/lib/python3.5/site-packages/pandas/core/indexes/base.py\u001b[0m in \u001b[0;36mget_value\u001b[0;34m(self, series, key)\u001b[0m\n\u001b[1;32m   3116\u001b[0m         \u001b[0;32mtry\u001b[0m\u001b[0;34m:\u001b[0m\u001b[0;34m\u001b[0m\u001b[0m\n\u001b[1;32m   3117\u001b[0m             return self._engine.get_value(s, k,\n\u001b[0;32m-> 3118\u001b[0;31m                                           tz=getattr(series.dtype, 'tz', None))\n\u001b[0m\u001b[1;32m   3119\u001b[0m         \u001b[0;32mexcept\u001b[0m \u001b[0mKeyError\u001b[0m \u001b[0;32mas\u001b[0m \u001b[0me1\u001b[0m\u001b[0;34m:\u001b[0m\u001b[0;34m\u001b[0m\u001b[0m\n\u001b[1;32m   3120\u001b[0m             \u001b[0;32mif\u001b[0m \u001b[0mlen\u001b[0m\u001b[0;34m(\u001b[0m\u001b[0mself\u001b[0m\u001b[0;34m)\u001b[0m \u001b[0;34m>\u001b[0m \u001b[0;36m0\u001b[0m \u001b[0;32mand\u001b[0m \u001b[0mself\u001b[0m\u001b[0;34m.\u001b[0m\u001b[0minferred_type\u001b[0m \u001b[0;32min\u001b[0m \u001b[0;34m[\u001b[0m\u001b[0;34m'integer'\u001b[0m\u001b[0;34m,\u001b[0m \u001b[0;34m'boolean'\u001b[0m\u001b[0;34m]\u001b[0m\u001b[0;34m:\u001b[0m\u001b[0;34m\u001b[0m\u001b[0m\n",
      "\u001b[0;32mpandas/_libs/index.pyx\u001b[0m in \u001b[0;36mpandas._libs.index.IndexEngine.get_value\u001b[0;34m()\u001b[0m\n",
      "\u001b[0;32mpandas/_libs/index.pyx\u001b[0m in \u001b[0;36mpandas._libs.index.IndexEngine.get_value\u001b[0;34m()\u001b[0m\n",
      "\u001b[0;32mpandas/_libs/index.pyx\u001b[0m in \u001b[0;36mpandas._libs.index.IndexEngine.get_loc\u001b[0;34m()\u001b[0m\n",
      "\u001b[0;32mpandas/_libs/hashtable_class_helper.pxi\u001b[0m in \u001b[0;36mpandas._libs.hashtable.Int64HashTable.get_item\u001b[0;34m()\u001b[0m\n",
      "\u001b[0;32mpandas/_libs/hashtable_class_helper.pxi\u001b[0m in \u001b[0;36mpandas._libs.hashtable.Int64HashTable.get_item\u001b[0;34m()\u001b[0m\n",
      "\u001b[0;31mKeyError\u001b[0m: 0"
     ]
    }
   ],
   "source": [
    "val = MC_nu.query('inTPC==1')['_intersections'].value_counts()\n",
    "print('Percentage crossing upper or lower: {0:.1f}%.'.format(val[1]/sum(val)*100))\n",
    "upper = MC_nu.query('inTPC==1')[MC_nu.query('inTPC==1')['_y_cross']>120]['_intersections'].value_counts()\n",
    "print(upper)\n",
    "print('Percentage crossing upper: {0:.1f}%.'.format(upper/sum(val)*100))"
   ]
  },
  {
   "cell_type": "code",
   "execution_count": 87,
   "metadata": {},
   "outputs": [
    {
     "data": {
      "text/plain": [
       "False    5488\n",
       "True     4512\n",
       "Name: inTPC, dtype: int64"
      ]
     },
     "execution_count": 87,
     "metadata": {},
     "output_type": "execute_result"
    }
   ],
   "source": [
    "MC_nu['inTPC'].value_counts()"
   ]
  },
  {
   "cell_type": "code",
   "execution_count": 108,
   "metadata": {},
   "outputs": [
    {
     "name": "stdout",
     "output_type": "stream",
     "text": [
      "Fraction of nu events causing a CRT crossing 94.7%.\n"
     ]
    }
   ],
   "source": [
    "df_inTPC_no = MC_nu.query('inTPC==1')['_nu_e']\n",
    "df_inTPC_yes = MC_nu.query('_intersections>0 & inTPC==1')['_nu_e']\n",
    "\n",
    "df_outTPC_no = MC_nu.query('inTPC==0')['_nu_e']\n",
    "df_outTPC_yes = MC_nu.query('_intersections>0 & inTPC==0')['_nu_e']\n",
    "\n",
    "print('Fraction of nu events causing a CRT crossing {0:.1f}%.'.format( (1 - (len(df_inTPC_yes+df_outTPC_yes)/len(df_inTPC_no+df_outTPC_no)))*100))"
   ]
  },
  {
   "cell_type": "code",
   "execution_count": 99,
   "metadata": {},
   "outputs": [
    {
     "name": "stdout",
     "output_type": "stream",
     "text": [
      "[0.         0.16666667 0.33333333 0.5        0.66666667 0.83333333\n",
      " 1.         1.16666667 1.33333333 1.5        1.66666667 1.83333333\n",
      " 2.         2.16666667 2.33333333 2.5       ]\n"
     ]
    }
   ],
   "source": [
    "edges = np.linspace(0.,2.5,16)\n",
    "print(edges)\n",
    "val1,_ = np.histogram(df_inTPC_no,bins=edges)\n",
    "val2,_ = np.histogram(df_outTPC_no,bins=edges)\n",
    "val3,_ = np.histogram(df_inTPC_yes,bins=edges)\n",
    "val4,_ = np.histogram(df_outTPC_yes,bins=edges)\n",
    "\n"
   ]
  },
  {
   "cell_type": "code",
   "execution_count": 100,
   "metadata": {},
   "outputs": [],
   "source": [
    "eff_in = val3/val1\n",
    "err_in = np.sqrt(val3*val1/(val1+val3)**3)\n",
    "eff_out = val4/val2\n",
    "err_out = np.sqrt(val4*val2/(val2+val4)**3)"
   ]
  },
  {
   "cell_type": "code",
   "execution_count": 101,
   "metadata": {},
   "outputs": [
    {
     "name": "stdout",
     "output_type": "stream",
     "text": [
      "[ 0  0  1  9 16 24 31 31 22 15  7  4  1  2  0]\n",
      "[  3  92 295 500 641 665 614 496 403 279 181 102  36  26  25]\n",
      "[0.         0.         0.00337267 0.00584157 0.00601369 0.00698534\n",
      " 0.0084222  0.01024957 0.01074683 0.01283296 0.01380866 0.0185085\n",
      " 0.0266593  0.04867037 0.        ]\n",
      "[       27    778688  25934336 131872229 283593393 327082769 268336125\n",
      " 146363183  76765625  25412184   6644672   1191016     50653     21952\n",
      "     15625]\n"
     ]
    }
   ],
   "source": [
    "print(val3)\n",
    "print(val1)\n",
    "print (err_in)\n",
    "print((val1+val3)**3)"
   ]
  },
  {
   "cell_type": "code",
   "execution_count": 158,
   "metadata": {},
   "outputs": [
    {
     "data": {
      "image/png": "[encoded data removed]",
      "text/plain": [
       "<Figure size 288x237.6 with 1 Axes>"
      ]
     },
     "metadata": {
      "needs_background": "light"
     },
     "output_type": "display_data"
    }
   ],
   "source": [
    "fig,ax = plt.subplots(figsize=(4,3.3))\n",
    "\n",
    "x_axis = edges[:-1]+(edges[1]-edges[0])/2\n",
    "x_err = (edges[1]-edges[0])/2\n",
    "label = r'$\\nu$-vtx in TPC ({0:.1f}%).'.format( (1 - len(df_inTPC_yes)/len(df_inTPC_no))*100)\n",
    "#ax.errorbar(x_axis, 1-eff_in, xerr=0 ,yerr = err_in, fmt='.', label=label, c='r')\n",
    "ax.errorbar(x_axis, 1-eff_in, xerr=x_err ,yerr = err_in, fmt='.', label=label, c='C0')\n",
    "label = r'$\\nu$-vtx out TPC ({0:.1f}%).'.format( (1 - len(df_outTPC_yes)/len(df_outTPC_no))*100)\n",
    "#ax.errorbar(x_axis, 1-eff_out, xerr=0 ,yerr = err_out, fmt='.', label=label,c='b')\n",
    "ax.errorbar(x_axis, 1-eff_out, xerr=x_err ,yerr = err_out, fmt='.', label=label,c='C1')\n",
    "ax.set_ylim(0.5,1.05)\n",
    "ax.set_xlabel(r'True $\\nu$ Energy [GeV]')\n",
    "ax.set_ylabel(r'Fraction without CRT crossing')\n",
    "ax.set_title(r'CRT crossing for BNB $\\nu$ events')\n",
    "ax.legend()\n",
    "fig.tight_layout()\n",
    "plt.savefig(\"./output/crt_crossing_nu.pdf\", bbox_inches=\"tight\")"
   ]
  },
  {
   "cell_type": "code",
   "execution_count": 168,
   "metadata": {},
   "outputs": [
    {
     "data": {
      "image/png": "[encoded data removed]",
      "text/plain": [
       "<Figure size 576x216 with 3 Axes>"
      ]
     },
     "metadata": {
      "needs_background": "light"
     },
     "output_type": "display_data"
    }
   ],
   "source": [
    "# Make 2D projections of where these neutrinos are crossing the TPC\n",
    "x = MC_nu['_x_cross']\n",
    "y = MC_nu['_y_cross']\n",
    "z = MC_nu['_z_cross']\n",
    "\n",
    "fig, ax = plt.subplots(1,3, figsize=(8,3))\n",
    "\n",
    "ax[0].scatter(z,y,s=2)\n",
    "ax[0].set_xlabel(r'$z$ [cm]')\n",
    "ax[0].set_ylabel(r'$y$ [cm]')\n",
    "ax[0].set_title(r'ZY')\n",
    "\n",
    "ax[1].scatter(x,y,s=2)\n",
    "ax[1].set_xlabel(r'$x$ [cm]')\n",
    "ax[1].set_ylabel(r'$y$ [cm]')\n",
    "ax[1].set_title(r'XY')\n",
    "\n",
    "ax[2].scatter(z,x,s=2)\n",
    "ax[2].set_xlabel(r'$z$ [cm]')\n",
    "ax[2].set_ylabel(r'$x$ [cm]')\n",
    "ax[2].set_title(r'ZX')\n",
    "\n",
    "fig.suptitle(r'CRT intersections: BNB $\\nu$ sample')\n",
    "fig.tight_layout()\n",
    "fig.subplots_adjust(top=0.8)\n",
    "plt.savefig(\"./output/crt_crossing_nu_proj.pdf\", bbox_inches=\"tight\")"
   ]
  }
 ],
 "metadata": {
  "kernelspec": {
   "display_name": "Uproot Env",
   "language": "python",
   "name": "uprootenv"
  },
  "language_info": {
   "codemirror_mode": {
    "name": "ipython",
    "version": 3
   },
   "file_extension": ".py",
   "mimetype": "text/x-python",
   "name": "python",
   "nbconvert_exporter": "python",
   "pygments_lexer": "ipython3",
   "version": "3.5.6"
  }
 },
 "nbformat": 4,
 "nbformat_minor": 2
}
