{
 "cells": [
  {
   "cell_type": "markdown",
   "metadata": {},
   "source": [
    "# CRTVeto on BNB samples"
   ]
  },
  {
   "cell_type": "markdown",
   "metadata": {},
   "source": [
    "## Imports"
   ]
  },
  {
   "cell_type": "code",
   "execution_count": 52,
   "metadata": {},
   "outputs": [],
   "source": [
    "import uproot\n",
    "import numpy as np\n",
    "import pandas as pd\n",
    "import matplotlib.pyplot as plt\n",
    "\n",
    "%matplotlib inline"
   ]
  },
  {
   "cell_type": "markdown",
   "metadata": {},
   "source": [
    "## Convert ROOT TTrees to Pandas dataframes "
   ]
  },
  {
   "cell_type": "code",
   "execution_count": 53,
   "metadata": {},
   "outputs": [
    {
     "data": {
      "text/html": [
       "<div>\n",
       "<style scoped>\n",
       "    .dataframe tbody tr th:only-of-type {\n",
       "        vertical-align: middle;\n",
       "    }\n",
       "\n",
       "    .dataframe tbody tr th {\n",
       "        vertical-align: top;\n",
       "    }\n",
       "\n",
       "    .dataframe thead th {\n",
       "        text-align: right;\n",
       "    }\n",
       "</style>\n",
       "<table border=\"1\" class=\"dataframe\">\n",
       "  <thead>\n",
       "    <tr style=\"text-align: right;\">\n",
       "      <th></th>\n",
       "      <th>_CRT_hit_PE</th>\n",
       "      <th>_CRT_hit_time</th>\n",
       "      <th>_CRT_hit_x</th>\n",
       "      <th>_CRT_hit_y</th>\n",
       "      <th>_CRT_hit_z</th>\n",
       "      <th>_beam_flash_PE</th>\n",
       "      <th>_beam_flash_time</th>\n",
       "      <th>_dt</th>\n",
       "      <th>_event</th>\n",
       "      <th>_nCRThits_in_event</th>\n",
       "      <th>_nflashes_in_beamgate</th>\n",
       "      <th>_nflashes_in_beamgate_passing_beamspill_and_PE_cuts</th>\n",
       "      <th>_run</th>\n",
       "      <th>_subrun</th>\n",
       "      <th>_within_resolution</th>\n",
       "    </tr>\n",
       "  </thead>\n",
       "  <tbody>\n",
       "    <tr>\n",
       "      <th>0</th>\n",
       "      <td>122.025398</td>\n",
       "      <td>3.922</td>\n",
       "      <td>385.305573</td>\n",
       "      <td>-261.605988</td>\n",
       "      <td>327.806183</td>\n",
       "      <td>142.258143</td>\n",
       "      <td>3.63250</td>\n",
       "      <td>-0.28950</td>\n",
       "      <td>687</td>\n",
       "      <td>112</td>\n",
       "      <td>1</td>\n",
       "      <td>1</td>\n",
       "      <td>15427</td>\n",
       "      <td>13</td>\n",
       "      <td>1</td>\n",
       "    </tr>\n",
       "    <tr>\n",
       "      <th>1</th>\n",
       "      <td>122.025398</td>\n",
       "      <td>-1822.698</td>\n",
       "      <td>385.305573</td>\n",
       "      <td>-261.605988</td>\n",
       "      <td>327.806183</td>\n",
       "      <td>-1.000000</td>\n",
       "      <td>-10000.00000</td>\n",
       "      <td>-8177.30200</td>\n",
       "      <td>801</td>\n",
       "      <td>100</td>\n",
       "      <td>0</td>\n",
       "      <td>0</td>\n",
       "      <td>15427</td>\n",
       "      <td>16</td>\n",
       "      <td>0</td>\n",
       "    </tr>\n",
       "    <tr>\n",
       "      <th>2</th>\n",
       "      <td>122.025398</td>\n",
       "      <td>-1735.951</td>\n",
       "      <td>385.305573</td>\n",
       "      <td>-261.605988</td>\n",
       "      <td>327.806183</td>\n",
       "      <td>-1.000000</td>\n",
       "      <td>-10000.00000</td>\n",
       "      <td>-8264.04900</td>\n",
       "      <td>830</td>\n",
       "      <td>105</td>\n",
       "      <td>1</td>\n",
       "      <td>0</td>\n",
       "      <td>15427</td>\n",
       "      <td>16</td>\n",
       "      <td>0</td>\n",
       "    </tr>\n",
       "    <tr>\n",
       "      <th>3</th>\n",
       "      <td>122.025398</td>\n",
       "      <td>-1786.329</td>\n",
       "      <td>385.305573</td>\n",
       "      <td>-261.605988</td>\n",
       "      <td>327.806183</td>\n",
       "      <td>-1.000000</td>\n",
       "      <td>-10000.00000</td>\n",
       "      <td>-8213.67100</td>\n",
       "      <td>831</td>\n",
       "      <td>88</td>\n",
       "      <td>1</td>\n",
       "      <td>0</td>\n",
       "      <td>15427</td>\n",
       "      <td>16</td>\n",
       "      <td>0</td>\n",
       "    </tr>\n",
       "    <tr>\n",
       "      <th>4</th>\n",
       "      <td>122.025398</td>\n",
       "      <td>-8.495</td>\n",
       "      <td>385.305573</td>\n",
       "      <td>-261.605988</td>\n",
       "      <td>327.806183</td>\n",
       "      <td>1152.549978</td>\n",
       "      <td>4.80375</td>\n",
       "      <td>13.29875</td>\n",
       "      <td>832</td>\n",
       "      <td>89</td>\n",
       "      <td>1</td>\n",
       "      <td>1</td>\n",
       "      <td>15427</td>\n",
       "      <td>16</td>\n",
       "      <td>0</td>\n",
       "    </tr>\n",
       "  </tbody>\n",
       "</table>\n",
       "</div>"
      ],
      "text/plain": [
       "   _CRT_hit_PE  _CRT_hit_time  _CRT_hit_x  _CRT_hit_y  _CRT_hit_z  \\\n",
       "0   122.025398          3.922  385.305573 -261.605988  327.806183   \n",
       "1   122.025398      -1822.698  385.305573 -261.605988  327.806183   \n",
       "2   122.025398      -1735.951  385.305573 -261.605988  327.806183   \n",
       "3   122.025398      -1786.329  385.305573 -261.605988  327.806183   \n",
       "4   122.025398         -8.495  385.305573 -261.605988  327.806183   \n",
       "\n",
       "   _beam_flash_PE  _beam_flash_time         _dt  _event  _nCRThits_in_event  \\\n",
       "0      142.258143           3.63250    -0.28950     687                 112   \n",
       "1       -1.000000      -10000.00000 -8177.30200     801                 100   \n",
       "2       -1.000000      -10000.00000 -8264.04900     830                 105   \n",
       "3       -1.000000      -10000.00000 -8213.67100     831                  88   \n",
       "4     1152.549978           4.80375    13.29875     832                  89   \n",
       "\n",
       "   _nflashes_in_beamgate  _nflashes_in_beamgate_passing_beamspill_and_PE_cuts  \\\n",
       "0                      1                                                  1     \n",
       "1                      0                                                  0     \n",
       "2                      1                                                  0     \n",
       "3                      1                                                  0     \n",
       "4                      1                                                  1     \n",
       "\n",
       "    _run  _subrun  _within_resolution  \n",
       "0  15427       13                   1  \n",
       "1  15427       16                   0  \n",
       "2  15427       16                   0  \n",
       "3  15427       16                   0  \n",
       "4  15427       16                   0  "
      ]
     },
     "execution_count": 53,
     "metadata": {},
     "output_type": "execute_result"
    }
   ],
   "source": [
    "beamON = uproot.open('input/beamON.root')['ubcrt']['_tree']\n",
    "beamON = pd.DataFrame.from_dict(beamON.arrays(beamON.keys()))\n",
    "beamON.columns = [x.decode('ascii') for x in beamON.columns]\n",
    "beamON.head()"
   ]
  },
  {
   "cell_type": "code",
   "execution_count": 54,
   "metadata": {},
   "outputs": [
    {
     "data": {
      "text/html": [
       "<div>\n",
       "<style scoped>\n",
       "    .dataframe tbody tr th:only-of-type {\n",
       "        vertical-align: middle;\n",
       "    }\n",
       "\n",
       "    .dataframe tbody tr th {\n",
       "        vertical-align: top;\n",
       "    }\n",
       "\n",
       "    .dataframe thead th {\n",
       "        text-align: right;\n",
       "    }\n",
       "</style>\n",
       "<table border=\"1\" class=\"dataframe\">\n",
       "  <thead>\n",
       "    <tr style=\"text-align: right;\">\n",
       "      <th></th>\n",
       "      <th>_CRT_hit_PE</th>\n",
       "      <th>_CRT_hit_time</th>\n",
       "      <th>_CRT_hit_x</th>\n",
       "      <th>_CRT_hit_y</th>\n",
       "      <th>_CRT_hit_z</th>\n",
       "      <th>_beam_flash_PE</th>\n",
       "      <th>_beam_flash_time</th>\n",
       "      <th>_dt</th>\n",
       "      <th>_event</th>\n",
       "      <th>_nCRThits_in_event</th>\n",
       "      <th>_nflashes_in_beamgate</th>\n",
       "      <th>_nflashes_in_beamgate_passing_beamspill_and_PE_cuts</th>\n",
       "      <th>_run</th>\n",
       "      <th>_subrun</th>\n",
       "      <th>_within_resolution</th>\n",
       "    </tr>\n",
       "  </thead>\n",
       "  <tbody>\n",
       "    <tr>\n",
       "      <th>0</th>\n",
       "      <td>1.586624e-76</td>\n",
       "      <td>-1791.110</td>\n",
       "      <td>6.983406e-76</td>\n",
       "      <td>9.032548e+271</td>\n",
       "      <td>4.699679e-86</td>\n",
       "      <td>-1.000000</td>\n",
       "      <td>-10000.000000</td>\n",
       "      <td>-8208.890000</td>\n",
       "      <td>651</td>\n",
       "      <td>123</td>\n",
       "      <td>1</td>\n",
       "      <td>0</td>\n",
       "      <td>15427</td>\n",
       "      <td>13</td>\n",
       "      <td>0</td>\n",
       "    </tr>\n",
       "    <tr>\n",
       "      <th>1</th>\n",
       "      <td>1.586624e-76</td>\n",
       "      <td>-53.402</td>\n",
       "      <td>6.983406e-76</td>\n",
       "      <td>9.032548e+271</td>\n",
       "      <td>4.699679e-86</td>\n",
       "      <td>167.197446</td>\n",
       "      <td>4.576250</td>\n",
       "      <td>57.978250</td>\n",
       "      <td>664</td>\n",
       "      <td>83</td>\n",
       "      <td>1</td>\n",
       "      <td>1</td>\n",
       "      <td>15427</td>\n",
       "      <td>13</td>\n",
       "      <td>0</td>\n",
       "    </tr>\n",
       "    <tr>\n",
       "      <th>2</th>\n",
       "      <td>1.586624e-76</td>\n",
       "      <td>-1891.122</td>\n",
       "      <td>6.983406e-76</td>\n",
       "      <td>9.032548e+271</td>\n",
       "      <td>4.699679e-86</td>\n",
       "      <td>-1.000000</td>\n",
       "      <td>-10000.000000</td>\n",
       "      <td>-8108.878000</td>\n",
       "      <td>684</td>\n",
       "      <td>138</td>\n",
       "      <td>2</td>\n",
       "      <td>0</td>\n",
       "      <td>15427</td>\n",
       "      <td>13</td>\n",
       "      <td>0</td>\n",
       "    </tr>\n",
       "    <tr>\n",
       "      <th>3</th>\n",
       "      <td>1.586624e-76</td>\n",
       "      <td>-1908.332</td>\n",
       "      <td>6.983406e-76</td>\n",
       "      <td>9.032548e+271</td>\n",
       "      <td>4.699679e-86</td>\n",
       "      <td>-1.000000</td>\n",
       "      <td>-10000.000000</td>\n",
       "      <td>-8091.668000</td>\n",
       "      <td>828</td>\n",
       "      <td>133</td>\n",
       "      <td>1</td>\n",
       "      <td>0</td>\n",
       "      <td>15427</td>\n",
       "      <td>16</td>\n",
       "      <td>0</td>\n",
       "    </tr>\n",
       "    <tr>\n",
       "      <th>4</th>\n",
       "      <td>2.302565e+02</td>\n",
       "      <td>4.465</td>\n",
       "      <td>3.438353e+02</td>\n",
       "      <td>6.582500e+02</td>\n",
       "      <td>1.286594e+02</td>\n",
       "      <td>292.088539</td>\n",
       "      <td>4.414375</td>\n",
       "      <td>-0.050625</td>\n",
       "      <td>845</td>\n",
       "      <td>118</td>\n",
       "      <td>1</td>\n",
       "      <td>1</td>\n",
       "      <td>15427</td>\n",
       "      <td>16</td>\n",
       "      <td>1</td>\n",
       "    </tr>\n",
       "  </tbody>\n",
       "</table>\n",
       "</div>"
      ],
      "text/plain": [
       "    _CRT_hit_PE  _CRT_hit_time    _CRT_hit_x     _CRT_hit_y    _CRT_hit_z  \\\n",
       "0  1.586624e-76      -1791.110  6.983406e-76  9.032548e+271  4.699679e-86   \n",
       "1  1.586624e-76        -53.402  6.983406e-76  9.032548e+271  4.699679e-86   \n",
       "2  1.586624e-76      -1891.122  6.983406e-76  9.032548e+271  4.699679e-86   \n",
       "3  1.586624e-76      -1908.332  6.983406e-76  9.032548e+271  4.699679e-86   \n",
       "4  2.302565e+02          4.465  3.438353e+02   6.582500e+02  1.286594e+02   \n",
       "\n",
       "   _beam_flash_PE  _beam_flash_time          _dt  _event  _nCRThits_in_event  \\\n",
       "0       -1.000000     -10000.000000 -8208.890000     651                 123   \n",
       "1      167.197446          4.576250    57.978250     664                  83   \n",
       "2       -1.000000     -10000.000000 -8108.878000     684                 138   \n",
       "3       -1.000000     -10000.000000 -8091.668000     828                 133   \n",
       "4      292.088539          4.414375    -0.050625     845                 118   \n",
       "\n",
       "   _nflashes_in_beamgate  _nflashes_in_beamgate_passing_beamspill_and_PE_cuts  \\\n",
       "0                      1                                                  0     \n",
       "1                      1                                                  1     \n",
       "2                      2                                                  0     \n",
       "3                      1                                                  0     \n",
       "4                      1                                                  1     \n",
       "\n",
       "    _run  _subrun  _within_resolution  \n",
       "0  15427       13                   0  \n",
       "1  15427       13                   0  \n",
       "2  15427       13                   0  \n",
       "3  15427       16                   0  \n",
       "4  15427       16                   1  "
      ]
     },
     "execution_count": 54,
     "metadata": {},
     "output_type": "execute_result"
    }
   ],
   "source": [
    "beamOFF = uproot.open('input/beamOFF.root')['ubcrt']['_tree']\n",
    "beamOFF = pd.DataFrame.from_dict(beamOFF.arrays(beamOFF.keys()))\n",
    "beamOFF.columns = [x.decode('ascii') for x in beamOFF.columns]\n",
    "beamOFF.head()"
   ]
  },
  {
   "cell_type": "markdown",
   "metadata": {},
   "source": [
    "## Fraction vetoed by the CRT-Flash matching"
   ]
  },
  {
   "cell_type": "code",
   "execution_count": 63,
   "metadata": {},
   "outputs": [
    {
     "name": "stdout",
     "output_type": "stream",
     "text": [
      "Vetoed in Beam ON:\t36.80%.\n",
      "Vetoed in Beam OFF:\t45.26%.\n"
     ]
    }
   ],
   "source": [
    "# Percentage events with a CRT-Flash match:\n",
    "print('Vetoed in Beam ON:\\t{0:.2f}%.'.format(sum(beamON['_within_resolution'])/len(beamON['_within_resolution'])*100))\n",
    "print('Vetoed in Beam OFF:\\t{0:.2f}%.'.format(sum(beamOFF['_within_resolution'])/len(beamOFF['_within_resolution'])*100))"
   ]
  },
  {
   "cell_type": "code",
   "execution_count": 69,
   "metadata": {},
   "outputs": [
    {
     "data": {
      "text/plain": [
       "1    9482\n",
       "Name: _nflashes_in_beamgate_passing_beamspill_and_PE_cuts, dtype: int64"
      ]
     },
     "execution_count": 69,
     "metadata": {},
     "output_type": "execute_result"
    }
   ],
   "source": [
    "# Check if all vtoed events did have a valid flash:\n",
    "beamOFF.query('_within_resolution==1')['_nflashes_in_beamgate_passing_beamspill_and_PE_cuts'].value_counts()\n",
    "beamON.query('_within_resolution==1')['_nflashes_in_beamgate_passing_beamspill_and_PE_cuts'].value_counts()"
   ]
  },
  {
   "cell_type": "code",
   "execution_count": 70,
   "metadata": {},
   "outputs": [
    {
     "name": "stdout",
     "output_type": "stream",
     "text": [
      "Vetoed in Beam ON:\t52.79%.\n",
      "Vetoed in Beam OFF:\t66.07%.\n"
     ]
    }
   ],
   "source": [
    "# Percentage vetoed that do have a valid flash:\n",
    "beamOFF_valifflash = beamOFF.query('_nflashes_in_beamgate_passing_beamspill_and_PE_cuts>0')\n",
    "beamON_valifflash = beamON.query('_nflashes_in_beamgate_passing_beamspill_and_PE_cuts>0')\n",
    "print('Vetoed in Beam ON:\\t{0:.2f}%.'.format(sum(beamON_valifflash['_within_resolution'])/len(beamON_valifflash['_within_resolution'])*100))\n",
    "print('Vetoed in Beam OFF:\\t{0:.2f}%.'.format(sum(beamOFF_valifflash['_within_resolution'])/len(beamOFF_valifflash['_within_resolution'])*100))"
   ]
  },
  {
   "cell_type": "markdown",
   "metadata": {},
   "source": [
    "## Plots"
   ]
  },
  {
   "cell_type": "code",
   "execution_count": 57,
   "metadata": {
    "scrolled": false
   },
   "outputs": [
    {
     "name": "stdout",
     "output_type": "stream",
     "text": [
      "_CRT_hit_PE  maxdist:  414.2772521972656\n"
     ]
    },
    {
     "data": {
      "image/png": "[encoded data removed]",
      "text/plain": [
       "<Figure size 432x288 with 1 Axes>"
      ]
     },
     "metadata": {
      "needs_background": "light"
     },
     "output_type": "display_data"
    },
    {
     "name": "stdout",
     "output_type": "stream",
     "text": [
      "_CRT_hit_time  maxdist:  512.963\n"
     ]
    },
    {
     "data": {
      "image/png": "[encoded data removed]",
      "text/plain": [
       "<Figure size 432x288 with 1 Axes>"
      ]
     },
     "metadata": {
      "needs_background": "light"
     },
     "output_type": "display_data"
    },
    {
     "name": "stdout",
     "output_type": "stream",
     "text": [
      "_CRT_hit_x  maxdist:  489.7689208984375\n"
     ]
    },
    {
     "data": {
      "image/png": "[encoded data removed]",
      "text/plain": [
       "<Figure size 432x288 with 1 Axes>"
      ]
     },
     "metadata": {
      "needs_background": "light"
     },
     "output_type": "display_data"
    },
    {
     "name": "stdout",
     "output_type": "stream",
     "text": [
      "_CRT_hit_y  maxdist:  9.032547990433329e+271\n"
     ]
    },
    {
     "data": {
      "image/png": "[encoded data removed]",
      "text/plain": [
       "<Figure size 432x288 with 1 Axes>"
      ]
     },
     "metadata": {
      "needs_background": "light"
     },
     "output_type": "display_data"
    },
    {
     "name": "stdout",
     "output_type": "stream",
     "text": [
      "_CRT_hit_z  maxdist:  1180.0205078125\n"
     ]
    },
    {
     "data": {
      "image/png": "[encoded data removed]",
      "text/plain": [
       "<Figure size 432x288 with 1 Axes>"
      ]
     },
     "metadata": {
      "needs_background": "light"
     },
     "output_type": "display_data"
    },
    {
     "name": "stdout",
     "output_type": "stream",
     "text": [
      "_beam_flash_PE  maxdist:  17580.88134194024\n"
     ]
    },
    {
     "data": {
      "image/png": "[encoded data removed]",
      "text/plain": [
       "<Figure size 432x288 with 1 Axes>"
      ]
     },
     "metadata": {
      "needs_background": "light"
     },
     "output_type": "display_data"
    },
    {
     "name": "stdout",
     "output_type": "stream",
     "text": [
      "_beam_flash_time  maxdist:  6.24625\n"
     ]
    },
    {
     "data": {
      "image/png": "[encoded data removed]",
      "text/plain": [
       "<Figure size 432x288 with 1 Axes>"
      ]
     },
     "metadata": {
      "needs_background": "light"
     },
     "output_type": "display_data"
    },
    {
     "name": "stdout",
     "output_type": "stream",
     "text": [
      "_dt  maxdist:  297.69525\n"
     ]
    },
    {
     "data": {
      "image/png": "[encoded data removed]",
      "text/plain": [
       "<Figure size 432x288 with 1 Axes>"
      ]
     },
     "metadata": {
      "needs_background": "light"
     },
     "output_type": "display_data"
    },
    {
     "name": "stdout",
     "output_type": "stream",
     "text": [
      "_event  maxdist:  18645\n"
     ]
    },
    {
     "data": {
      "image/png": "[encoded data removed]",
      "text/plain": [
       "<Figure size 432x288 with 1 Axes>"
      ]
     },
     "metadata": {
      "needs_background": "light"
     },
     "output_type": "display_data"
    },
    {
     "name": "stdout",
     "output_type": "stream",
     "text": [
      "_nCRThits_in_event  maxdist:  387\n"
     ]
    },
    {
     "data": {
      "image/png": "[encoded data removed]",
      "text/plain": [
       "<Figure size 432x288 with 1 Axes>"
      ]
     },
     "metadata": {
      "needs_background": "light"
     },
     "output_type": "display_data"
    },
    {
     "name": "stdout",
     "output_type": "stream",
     "text": [
      "_nflashes_in_beamgate  maxdist:  3\n"
     ]
    },
    {
     "data": {
      "image/png": "[encoded data removed]",
      "text/plain": [
       "<Figure size 432x288 with 1 Axes>"
      ]
     },
     "metadata": {
      "needs_background": "light"
     },
     "output_type": "display_data"
    },
    {
     "name": "stdout",
     "output_type": "stream",
     "text": [
      "_nflashes_in_beamgate_passing_beamspill_and_PE_cuts  maxdist:  1\n"
     ]
    },
    {
     "data": {
      "image/png": "[encoded data removed]",
      "text/plain": [
       "<Figure size 432x288 with 1 Axes>"
      ]
     },
     "metadata": {
      "needs_background": "light"
     },
     "output_type": "display_data"
    },
    {
     "name": "stdout",
     "output_type": "stream",
     "text": [
      "_run  maxdist:  92\n"
     ]
    },
    {
     "data": {
      "image/png": "[encoded data removed]",
      "text/plain": [
       "<Figure size 432x288 with 1 Axes>"
      ]
     },
     "metadata": {
      "needs_background": "light"
     },
     "output_type": "display_data"
    },
    {
     "name": "stdout",
     "output_type": "stream",
     "text": [
      "_subrun  maxdist:  372\n"
     ]
    },
    {
     "data": {
      "image/png": "[encoded data removed]",
      "text/plain": [
       "<Figure size 432x288 with 1 Axes>"
      ]
     },
     "metadata": {
      "needs_background": "light"
     },
     "output_type": "display_data"
    },
    {
     "name": "stdout",
     "output_type": "stream",
     "text": [
      "_within_resolution  maxdist:  1\n"
     ]
    },
    {
     "data": {
      "image/png": "[encoded data removed]",
      "text/plain": [
       "<Figure size 432x288 with 1 Axes>"
      ]
     },
     "metadata": {
      "needs_background": "light"
     },
     "output_type": "display_data"
    }
   ],
   "source": [
    "for key in beamOFF.keys():\n",
    "    x_min = min(beamOFF[key])\n",
    "    if x_min < -1:\n",
    "        x_min=-1     # Trick to avoid default large negative values to mess up plots\n",
    "    x_max = max(beamOFF[key])\n",
    "    plt.hist([beamON[key] , beamOFF[key]],range=(x_min,x_max),bins=20, histtype='step', lw=2)\n",
    "    plt.xlabel(key)\n",
    "    plt.show()"
   ]
  },
  {
   "cell_type": "code",
   "execution_count": null,
   "metadata": {},
   "outputs": [],
   "source": []
  },
  {
   "cell_type": "code",
   "execution_count": null,
   "metadata": {},
   "outputs": [],
   "source": []
  }
 ],
 "metadata": {
  "kernelspec": {
   "display_name": "Uproot Env",
   "language": "python",
   "name": "uprootenv"
  },
  "language_info": {
   "codemirror_mode": {
    "name": "ipython",
    "version": 3
   },
   "file_extension": ".py",
   "mimetype": "text/x-python",
   "name": "python",
   "nbconvert_exporter": "python",
   "pygments_lexer": "ipython3",
   "version": "3.5.6"
  }
 },
 "nbformat": 4,
 "nbformat_minor": 2
}
